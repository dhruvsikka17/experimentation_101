{
 "cells": [
  {
   "cell_type": "markdown",
   "id": "ae7fcf2f-9ad4-47ef-8aff-0405b1bf533d",
   "metadata": {},
   "source": [
    "# Randomization Methods\n",
    "- Randomization ensures that experimental groups are comparable and reduces bias.\n",
    "- Used in A/B testing, clinical trials, marketing experiments, and product feature rollouts.\n",
    "- Common goals:\n",
    "    - Preventing selection bias\n",
    "    - Balancing confounding variables\n",
    "    - Ensuring statistical validity"
   ]
  },
  {
   "cell_type": "code",
   "execution_count": 3,
   "id": "2d745942-4ef8-4595-bf43-f67fac5acf38",
   "metadata": {},
   "outputs": [],
   "source": [
    "import numpy as np\n",
    "import pandas as pd\n",
    "import matplotlib.pyplot as plt\n",
    "import seaborn as sns\n",
    "\n",
    "from scipy.stats import beta\n",
    "from scipy.stats import ttest_ind\n",
    "from scipy.stats import chi2_contingency"
   ]
  },
  {
   "cell_type": "markdown",
   "id": "e8bfee12-8f2e-4d6c-a3b9-aa0d788b7a96",
   "metadata": {},
   "source": [
    "### Simple Randomization\n",
    "- <b>Use case</b>: Best for large sample sizes where random chance ensures balance.\n",
    "- <b>How it works</b>: Each unit (user, patient, product) is assigned randomly to a treatment or control group."
   ]
  },
  {
   "cell_type": "code",
   "execution_count": 5,
   "id": "1a64e8e5-f864-4a4b-b06b-c32dfcd48fed",
   "metadata": {},
   "outputs": [
    {
     "data": {
      "text/html": [
       "<div>\n",
       "<style scoped>\n",
       "    .dataframe tbody tr th:only-of-type {\n",
       "        vertical-align: middle;\n",
       "    }\n",
       "\n",
       "    .dataframe tbody tr th {\n",
       "        vertical-align: top;\n",
       "    }\n",
       "\n",
       "    .dataframe thead th {\n",
       "        text-align: right;\n",
       "    }\n",
       "</style>\n",
       "<table border=\"1\" class=\"dataframe\">\n",
       "  <thead>\n",
       "    <tr style=\"text-align: right;\">\n",
       "      <th></th>\n",
       "      <th>user_id</th>\n",
       "    </tr>\n",
       "    <tr>\n",
       "      <th>group</th>\n",
       "      <th></th>\n",
       "    </tr>\n",
       "  </thead>\n",
       "  <tbody>\n",
       "    <tr>\n",
       "      <th>Control</th>\n",
       "      <td>55</td>\n",
       "    </tr>\n",
       "    <tr>\n",
       "      <th>Treatment</th>\n",
       "      <td>45</td>\n",
       "    </tr>\n",
       "  </tbody>\n",
       "</table>\n",
       "</div>"
      ],
      "text/plain": [
       "           user_id\n",
       "group             \n",
       "Control         55\n",
       "Treatment       45"
      ]
     },
     "execution_count": 5,
     "metadata": {},
     "output_type": "execute_result"
    }
   ],
   "source": [
    "\n",
    "# Simulating 100 users\n",
    "np.random.seed(40)\n",
    "simple_users = pd.DataFrame({'user_id': range(1, 101)})\n",
    "\n",
    "# Random assignment (50% Treatment, 50% Control)\n",
    "simple_users['group'] = np.random.choice(['Treatment', 'Control'], size=len(simple_users))\n",
    "simple_users.groupby(simple_users['group']).count()\n"
   ]
  },
  {
   "cell_type": "markdown",
   "id": "1d20a470-1e6f-4835-9dfe-f51f206ae6e2",
   "metadata": {},
   "source": [
    "### Stratified Randomization\n",
    "- <b>Use case</b>: When certain characteristics (e.g., age, gender, location) must be balanced across groups.\n",
    "- <b>How it works</b>: Divide the sample into strata (subgroups) and randomize within each."
   ]
  },
  {
   "cell_type": "code",
   "execution_count": 7,
   "id": "f3dead79-fe3e-412f-b0f4-3105a5e720a2",
   "metadata": {},
   "outputs": [
    {
     "data": {
      "text/html": [
       "<div>\n",
       "<style scoped>\n",
       "    .dataframe tbody tr th:only-of-type {\n",
       "        vertical-align: middle;\n",
       "    }\n",
       "\n",
       "    .dataframe tbody tr th {\n",
       "        vertical-align: top;\n",
       "    }\n",
       "\n",
       "    .dataframe thead th {\n",
       "        text-align: right;\n",
       "    }\n",
       "</style>\n",
       "<table border=\"1\" class=\"dataframe\">\n",
       "  <thead>\n",
       "    <tr style=\"text-align: right;\">\n",
       "      <th></th>\n",
       "      <th></th>\n",
       "      <th>user_id</th>\n",
       "    </tr>\n",
       "    <tr>\n",
       "      <th>group</th>\n",
       "      <th>age_group</th>\n",
       "      <th></th>\n",
       "    </tr>\n",
       "  </thead>\n",
       "  <tbody>\n",
       "    <tr>\n",
       "      <th rowspan=\"3\" valign=\"top\">Control</th>\n",
       "      <th>18-25</th>\n",
       "      <td>14</td>\n",
       "    </tr>\n",
       "    <tr>\n",
       "      <th>26-40</th>\n",
       "      <td>23</td>\n",
       "    </tr>\n",
       "    <tr>\n",
       "      <th>41-60</th>\n",
       "      <td>14</td>\n",
       "    </tr>\n",
       "    <tr>\n",
       "      <th rowspan=\"3\" valign=\"top\">Treatment</th>\n",
       "      <th>18-25</th>\n",
       "      <td>15</td>\n",
       "    </tr>\n",
       "    <tr>\n",
       "      <th>26-40</th>\n",
       "      <td>16</td>\n",
       "    </tr>\n",
       "    <tr>\n",
       "      <th>41-60</th>\n",
       "      <td>18</td>\n",
       "    </tr>\n",
       "  </tbody>\n",
       "</table>\n",
       "</div>"
      ],
      "text/plain": [
       "                     user_id\n",
       "group     age_group         \n",
       "Control   18-25           14\n",
       "          26-40           23\n",
       "          41-60           14\n",
       "Treatment 18-25           15\n",
       "          26-40           16\n",
       "          41-60           18"
      ]
     },
     "execution_count": 7,
     "metadata": {},
     "output_type": "execute_result"
    }
   ],
   "source": [
    "# Simulating 100 users with age groups\n",
    "strat_users = pd.DataFrame({'user_id': range(1, 101)})\n",
    "strat_users['age_group'] = np.random.choice(['18-25', '26-40', '41-60'], size=len(strat_users))\n",
    "\n",
    "# Stratified randomization (ensuring equal treatment/control split within each age group)\n",
    "strat_users['group'] = strat_users.groupby('age_group')['user_id'].transform(lambda x: np.random.choice(['Treatment', 'Control'], size=len(x)))\n",
    "\n",
    "strat_users.groupby([strat_users['group'],strat_users['age_group']]).count()"
   ]
  },
  {
   "cell_type": "markdown",
   "id": "2f3f8ba3-ea18-4c54-9b8a-c89f7ff58cff",
   "metadata": {},
   "source": [
    "### Adaptive Randomization\n",
    "- <b>Use case</b>: Dynamically assigns more participants to the better-performing group.\n",
    "- <b>How it works</b>:\n",
    "    - Adjusts probabilities over time based on observed outcomes.\n",
    "    - This snippet generates posterior samples from a Beta distribution for Bayesian A/B testing.\n",
    "    - This code is likely used to compare two groups (e.g., Treatment vs. Control) in an A/B test.\n",
    "    - It models the probability of success using Bayesian inference, assuming a Beta distribution as the prior.\n",
    "    - In Bayesian inference, the Beta distribution is a common prior for Bernoulli/binomial probabilities.\n",
    "    - If we assume the probability of success follows a Binomial likelihood, the Beta distribution serves as a conjugate prior.\n",
    "    - The prior is typically Beta(1,1) (Uniform), and after observing data (successes and failures), the posterior becomes:\n",
    "        - <i> Beta(successes + 1, failures +1) </i>"
   ]
  },
  {
   "cell_type": "code",
   "execution_count": 8,
   "id": "78bddb99-9fca-473d-a6cd-b4f189067cd4",
   "metadata": {},
   "outputs": [
    {
     "name": "stdout",
     "output_type": "stream",
     "text": [
      "Probability that Treatment is better: 95.20%\n",
      "Probability Treatment is better: 0.952\n",
      "95% CI for Treatment: [0.22335843 0.3947202 ]\n",
      "95% CI for Control: [0.13316712 0.28128884]\n"
     ]
    }
   ],
   "source": [
    "# Simulating observed conversions in each group\n",
    "successes = {'Treatment': 30, 'Control': 20}\n",
    "failures = {'Treatment': 70, 'Control': 80}\n",
    "\n",
    "# Sampling for adaptive assignment\n",
    "treatment_sample = beta.rvs(successes['Treatment'] + 1, failures['Treatment'] + 1, size=1000)\n",
    "control_sample = beta.rvs(successes['Control'] + 1, failures['Control'] + 1, size=1000)\n",
    "\n",
    "# Probability of Treatment being better\n",
    "prob_treatment_better = (treatment_sample > control_sample).mean()\n",
    "print(f\"Probability that Treatment is better: {prob_treatment_better:.2%}\")\n",
    "\n",
    "# Compute the credible interval (95% CI)\n",
    "treatment_ci = np.percentile(treatment_sample, [2.5, 97.5])\n",
    "control_ci = np.percentile(control_sample, [2.5, 97.5])\n",
    "\n",
    "print(f\"Probability Treatment is better: {prob_treatment_better}\")\n",
    "print(f\"95% CI for Treatment: {treatment_ci}\")\n",
    "print(f\"95% CI for Control: {control_ci}\")"
   ]
  },
  {
   "cell_type": "code",
   "execution_count": 9,
   "id": "7007a282-ed1e-4df7-9bb5-2438d4bafeca",
   "metadata": {},
   "outputs": [
    {
     "data": {
      "image/png": "[encoded data removed]",
      "text/plain": [
       "<Figure size 800x500 with 1 Axes>"
      ]
     },
     "metadata": {},
     "output_type": "display_data"
    }
   ],
   "source": [
    "# Plot the distributions\n",
    "plt.figure(figsize=(8, 5))\n",
    "sns.kdeplot(treatment_sample, label=\"Treatment\", fill=True, color=\"blue\")\n",
    "sns.kdeplot(control_sample, label=\"Control\", fill=True, color=\"red\")\n",
    "\n",
    "# Labels and legend\n",
    "plt.xlabel(\"Conversion Rate\")\n",
    "plt.ylabel(\"Density\")\n",
    "plt.title(\"Posterior Distributions of Treatment and Control\")\n",
    "plt.legend()\n",
    "plt.show()"
   ]
  },
  {
   "cell_type": "markdown",
   "id": "8d7b1159-a7b8-44e6-9857-321873113abd",
   "metadata": {},
   "source": [
    "# Randomization Quality Checks\n",
    "After randomization, one should validate that the assignment is truly random and that key variables are balanced across groups. Here are some ways to check if the sample is well-randomized:"
   ]
  },
  {
   "cell_type": "markdown",
   "id": "10c0c932-f284-42c7-8b19-243c8296b96c",
   "metadata": {},
   "source": [
    "### T-test for Balance (Numeric Variables)\n",
    "- Run a t-test to check if groups have significantly different averages for numerical features.\n",
    "- A high p-value (typically >0.05) means there is no significant difference, which is good for randomization!"
   ]
  },
  {
   "cell_type": "code",
   "execution_count": 10,
   "id": "cc46ef1a-56a6-4453-a3fa-b5f3e8c9ede4",
   "metadata": {},
   "outputs": [
    {
     "name": "stdout",
     "output_type": "stream",
     "text": [
      "T-statistic: 0.491, P-value: 0.624\n"
     ]
    }
   ],
   "source": [
    "import pandas as pd\n",
    "import numpy as np\n",
    "from scipy.stats import ttest_ind\n",
    "\n",
    "# Simulating 500 users with random ages between 1 and 70\n",
    "ttest_users = pd.DataFrame({\n",
    "    'user_id': range(1, 501),\n",
    "    'age': np.random.choice(range(1, 70), size=500, replace=True)  # Added size=500\n",
    "})\n",
    "\n",
    "# Stratified randomization (ensuring equal Treatment/Control split within each age group)\n",
    "ttest_users['group'] = ttest_users.groupby('age')['user_id'].transform(\n",
    "    lambda x: np.random.choice(['Treatment', 'Control'], size=len(x), replace=True)  # Ensuring all users get assigned\n",
    ")\n",
    "\n",
    "# Performing independent t-test\n",
    "t_stat, p_value = ttest_ind(\n",
    "    ttest_users[ttest_users['group'] == 'Treatment']['age'],\n",
    "    ttest_users[ttest_users['group'] == 'Control']['age'],\n",
    "    equal_var=False\n",
    ")\n",
    "\n",
    "print(f\"T-statistic: {t_stat:.3f}, P-value: {p_value:.3f}\")\n"
   ]
  },
  {
   "cell_type": "markdown",
   "id": "8b4d6da0-52ac-4364-bd16-297bd4c39fee",
   "metadata": {},
   "source": [
    "### Chi-Square Test for Balance (Categorical Variables)\n",
    "- Check if categorical variables (e.g., gender, location) are evenly split using a Chi-square test.\n",
    "- A high p-value (>0.05) means the distributions are not significantly different, meaning randomization worked well."
   ]
  },
  {
   "cell_type": "code",
   "execution_count": 21,
   "id": "b9fdff49-5775-4e66-9c0b-069f58eac4fe",
   "metadata": {},
   "outputs": [
    {
     "name": "stdout",
     "output_type": "stream",
     "text": [
      "gender     Female  Male\n",
      "group                  \n",
      "Control       126   135\n",
      "Treatment     123   116\n"
     ]
    }
   ],
   "source": [
    "from scipy.stats import chi2_contingency\n",
    "\n",
    "chi_users = pd.DataFrame({\n",
    "    'user_id': range(1, 501),\n",
    "    'age': np.random.choice(range(1, 70), size=500, replace=True),  # Generating random ages\n",
    "    'gender': np.random.choice(['Male', 'Female'], size=500, replace=True)  # Assigning gender randomly\n",
    "})\n",
    "\n",
    "chi_users['group'] = chi_users.groupby(['age','gender'])['user_id'].transform(\n",
    "    lambda x: np.random.choice(['Treatment', 'Control'], size=len(x), replace=True))  # Ensuring all users get assigned)\n",
    "\n",
    "# Create a contingency table\n",
    "contingency_table = pd.crosstab(chi_users['group'], chi_users['gender'])\n",
    "\n",
    "print(contingency_table)"
   ]
  },
  {
   "cell_type": "code",
   "execution_count": 22,
   "id": "0ecc457c-143a-4818-87b0-8e1e478b8af9",
   "metadata": {},
   "outputs": [
    {
     "name": "stdout",
     "output_type": "stream",
     "text": [
      "Chi-square statistic: 0.388, P-value: 0.533\n"
     ]
    }
   ],
   "source": [
    "# Run chi-square test\n",
    "chi2, p, dof, expected = chi2_contingency(contingency_table)\n",
    "\n",
    "print(f\"Chi-square statistic: {chi2:.3f}, P-value: {p:.3f}\")"
   ]
  },
  {
   "cell_type": "code",
   "execution_count": 24,
   "id": "60c8706b-1d6f-4b37-bec3-ff65468455ce",
   "metadata": {},
   "outputs": [
    {
     "data": {
      "image/png": "[encoded data removed]",
      "text/plain": [
       "<Figure size 640x480 with 1 Axes>"
      ]
     },
     "metadata": {},
     "output_type": "display_data"
    }
   ],
   "source": [
    "sns.histplot(data=chi_users, x='age', hue='group', bins=20, kde=True, multiple=\"dodge\")\n",
    "plt.title(\"Age Distribution by Group\")\n",
    "plt.show()"
   ]
  },
  {
   "cell_type": "markdown",
   "id": "05af6a84-8b5e-4af1-a3d1-763b996a0bae",
   "metadata": {},
   "source": [
    "### Checking Covariate Balance with Standardized Mean Differences (SMD)\n",
    "- The Standardized Mean Difference (SMD) measures imbalance.\n",
    "    - |SMD| < 0.1 → Good balance\n",
    "    - |SMD| > 0.1 → Potential imbalance"
   ]
  },
  {
   "cell_type": "code",
   "execution_count": 29,
   "id": "d4fd6791-5f1e-4298-8d7d-4e141609ebd9",
   "metadata": {},
   "outputs": [
    {
     "name": "stdout",
     "output_type": "stream",
     "text": [
      "Standardized Mean Difference (SMD): 0.018\n"
     ]
    }
   ],
   "source": [
    "def smd(a, b):\n",
    "    return (a.mean() - b.mean()) / np.sqrt((a.var() + b.var()) / 2)\n",
    "\n",
    "#Using chi_users itself since I'm a little lazy\n",
    "smd_value = smd(chi_users[chi_users['group'] == 'Treatment']['age'],\n",
    "                chi_users[chi_users['group'] == 'Control']['age'])\n",
    "\n",
    "print(f\"Standardized Mean Difference (SMD): {abs(smd_value):.3f}\")"
   ]
  },
  {
   "cell_type": "markdown",
   "id": "ebca6130-56f7-481b-afb5-a4168830dd98",
   "metadata": {},
   "source": [
    "# Final Thoughts"
   ]
  },
  {
   "cell_type": "markdown",
   "id": "f4060e71-5bf9-4ed0-9e69-b1eb45a8bbbc",
   "metadata": {},
   "source": [
    "If you find imbalance, consider:\n",
    "- Larger sample size – Small groups may be imbalanced just by chance.\n",
    "- Stratified randomization – If a key variable (e.g., gender, income) is imbalanced, stratify on it.\n",
    "- Blocked randomization – Ensures equal group sizes when sample size is small."
   ]
  },
  {
   "cell_type": "code",
   "execution_count": null,
   "id": "d3bbb8f8-0e07-4004-8091-3605cfbe947b",
   "metadata": {},
   "outputs": [],
   "source": []
  }
 ],
 "metadata": {
  "kernelspec": {
   "display_name": "Python 3 (ipykernel)",
   "language": "python",
   "name": "python3"
  },
  "language_info": {
   "codemirror_mode": {
    "name": "ipython",
    "version": 3
   },
   "file_extension": ".py",
   "mimetype": "text/x-python",
   "name": "python",
   "nbconvert_exporter": "python",
   "pygments_lexer": "ipython3",
   "version": "3.12.0"
  }
 },
 "nbformat": 4,
 "nbformat_minor": 5
}
