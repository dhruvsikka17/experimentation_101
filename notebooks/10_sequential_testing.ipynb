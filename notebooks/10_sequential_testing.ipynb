{
 "cells": [
  {
   "cell_type": "markdown",
   "id": "94c669c7-f125-41b6-9c39-80a890d4804a",
   "metadata": {},
   "source": [
    "# Sequential Testing in A/B Experiments"
   ]
  },
  {
   "cell_type": "markdown",
   "id": "bf5df4e8-5055-4276-b158-c65f97a3a40d",
   "metadata": {},
   "source": [
    "## Introduction\n",
    "- Sequential Testing allows early stopping of an experiment without inflating false positives.\n",
    "- Traditional A/B tests fix a sample size beforehand, but sequential testing lets you peek at results at regular intervals while adjusting for multiple looks."
   ]
  },
  {
   "cell_type": "markdown",
   "id": "8c32ae3c-06f0-4f1f-b4a2-9eac0abc14ac",
   "metadata": {},
   "source": [
    "## Type I Error Inflation (Why Multiple Looks Are Dangerous)  \n",
    "\n",
    "If we check a hypothesis only once, the false positive rate is:  \n",
    "\n",
    "$$\n",
    "\\alpha = 5\\%\n",
    "$$\n",
    "\n",
    "However, if we check every day, the overall chance of a false positive is much higher:  \n",
    "\n",
    "$$\n",
    "\\alpha_{\\text{overall}} = 1 - (1 - \\alpha)^{\\text{number of tests}}\n",
    "$$\n",
    "\n",
    "🔹 **Example:** If we run a test for 30 days and check every day:  \n",
    "\n",
    "$$\n",
    "\\alpha_{\\text{overall}} = 1 - (1 - 0.05)^{30} \\approx 0.79\n",
    "$$\n",
    "\n",
    "🚨 This means there's a **79% chance of a false positive**, even if the variant is ineffective!  \n"
   ]
  },
  {
   "cell_type": "markdown",
   "id": "800726e7-c6cd-4e7b-87c2-dda722a13299",
   "metadata": {},
   "source": [
    "## Example Scenario:"
   ]
  },
  {
   "cell_type": "markdown",
   "id": "92699623-bf51-4216-9827-25abb1efb386",
   "metadata": {},
   "source": [
    "An e-commerce company tests a new checkout design to see if it increases conversion rates (CVR). Instead of waiting for a fixed sample, they analyze results daily and stop early if the new design is significantly better.\n",
    "\n",
    "- **Control Group** → Old Checkout\n",
    "- **Test Group** → New Checkout"
   ]
  },
  {
   "cell_type": "markdown",
   "id": "aa714b08-17d6-456d-8839-a8a9543aadcd",
   "metadata": {},
   "source": [
    "### Step 1: Simulating the Experiment Data"
   ]
  },
  {
   "cell_type": "code",
   "execution_count": 15,
   "id": "b8e62c11-e0db-46d3-b308-ddde7d029ebc",
   "metadata": {},
   "outputs": [
    {
     "data": {
      "text/html": [
       "<div>\n",
       "<style scoped>\n",
       "    .dataframe tbody tr th:only-of-type {\n",
       "        vertical-align: middle;\n",
       "    }\n",
       "\n",
       "    .dataframe tbody tr th {\n",
       "        vertical-align: top;\n",
       "    }\n",
       "\n",
       "    .dataframe thead th {\n",
       "        text-align: right;\n",
       "    }\n",
       "</style>\n",
       "<table border=\"1\" class=\"dataframe\">\n",
       "  <thead>\n",
       "    <tr style=\"text-align: right;\">\n",
       "      <th></th>\n",
       "      <th>Day</th>\n",
       "      <th>Group</th>\n",
       "      <th>Conversions</th>\n",
       "      <th>Visitors</th>\n",
       "    </tr>\n",
       "  </thead>\n",
       "  <tbody>\n",
       "    <tr>\n",
       "      <th>0</th>\n",
       "      <td>1</td>\n",
       "      <td>Control</td>\n",
       "      <td>96</td>\n",
       "      <td>1000</td>\n",
       "    </tr>\n",
       "    <tr>\n",
       "      <th>1</th>\n",
       "      <td>1</td>\n",
       "      <td>Variant</td>\n",
       "      <td>122</td>\n",
       "      <td>1000</td>\n",
       "    </tr>\n",
       "    <tr>\n",
       "      <th>2</th>\n",
       "      <td>2</td>\n",
       "      <td>Control</td>\n",
       "      <td>87</td>\n",
       "      <td>1000</td>\n",
       "    </tr>\n",
       "    <tr>\n",
       "      <th>3</th>\n",
       "      <td>2</td>\n",
       "      <td>Variant</td>\n",
       "      <td>103</td>\n",
       "      <td>1000</td>\n",
       "    </tr>\n",
       "    <tr>\n",
       "      <th>4</th>\n",
       "      <td>3</td>\n",
       "      <td>Control</td>\n",
       "      <td>111</td>\n",
       "      <td>1000</td>\n",
       "    </tr>\n",
       "  </tbody>\n",
       "</table>\n",
       "</div>"
      ],
      "text/plain": [
       "   Day    Group  Conversions  Visitors\n",
       "0    1  Control           96      1000\n",
       "1    1  Variant          122      1000\n",
       "2    2  Control           87      1000\n",
       "3    2  Variant          103      1000\n",
       "4    3  Control          111      1000"
      ]
     },
     "execution_count": 15,
     "metadata": {},
     "output_type": "execute_result"
    }
   ],
   "source": [
    "import numpy as np\n",
    "import pandas as pd\n",
    "import matplotlib.pyplot as plt\n",
    "import seaborn as sns\n",
    "from scipy.stats import ttest_ind\n",
    "from statsmodels.stats.proportion import proportions_ztest\n",
    "\n",
    "np.random.seed(42)\n",
    "\n",
    "# Experiment parameters\n",
    "days = 30   # Length of experiment\n",
    "daily_visitors = 2000  # Number of visitors per day\n",
    "true_cvr_control = 0.10  # True conversion rate for control (10%)\n",
    "true_cvr_variant = 0.12  # True conversion rate for variant (12%)\n",
    "\n",
    "# Simulate daily conversions\n",
    "data = []\n",
    "for day in range(1, days + 1):\n",
    "    control_conversions = np.random.binomial(daily_visitors // 2, true_cvr_control)\n",
    "    variant_conversions = np.random.binomial(daily_visitors // 2, true_cvr_variant)\n",
    "    \n",
    "    data.append([day, 'Control', control_conversions, daily_visitors // 2])\n",
    "    data.append([day, 'Variant', variant_conversions, daily_visitors // 2])\n",
    "\n",
    "df = pd.DataFrame(data, columns=['Day', 'Group', 'Conversions', 'Visitors'])\n",
    "df.head()"
   ]
  },
  {
   "cell_type": "markdown",
   "id": "7854ff6c-971b-4dca-a10b-7a48af7b3eb6",
   "metadata": {},
   "source": [
    "### Step 2: Running Sequential Tests (Z-Test at Each Step)"
   ]
  },
  {
   "cell_type": "code",
   "execution_count": 16,
   "id": "d842a56f-a750-4fff-88b7-f6c62393012c",
   "metadata": {},
   "outputs": [
    {
     "data": {
      "image/png": "[encoded data removed]",
      "text/plain": [
       "<Figure size 1000x500 with 1 Axes>"
      ]
     },
     "metadata": {},
     "output_type": "display_data"
    }
   ],
   "source": [
    "alpha = 0.05  # Significance level\n",
    "stopping_threshold = alpha / days  # Adjusted threshold to control Type I error using Bonferroni Correction (conservertive but simple)\n",
    "results = []\n",
    "\n",
    "# Sequential testing loop\n",
    "for day in range(1, days + 1):\n",
    "    sub_df = df[df['Day'] <= day]\n",
    "    \n",
    "    conversions_control = sub_df[sub_df['Group'] == 'Control']['Conversions'].sum()\n",
    "    visitors_control = sub_df[sub_df['Group'] == 'Control']['Visitors'].sum()\n",
    "    \n",
    "    conversions_variant = sub_df[sub_df['Group'] == 'Variant']['Conversions'].sum()\n",
    "    visitors_variant = sub_df[sub_df['Group'] == 'Variant']['Visitors'].sum()\n",
    "\n",
    "    # Perform Proportions Z-test\n",
    "    stat, p_value = proportions_ztest([conversions_variant, conversions_control], \n",
    "                                      [visitors_variant, visitors_control])\n",
    "    results.append({'Day': day, 'P-Value': p_value})\n",
    "\n",
    "# Convert results to DataFrame\n",
    "results_df = pd.DataFrame(results)\n",
    "\n",
    "# Plot p-values over time\n",
    "plt.figure(figsize=(10,5))\n",
    "plt.axhline(y=stopping_threshold, color='r', linestyle='--', label=\"Adjusted Significance Threshold\")\n",
    "sns.lineplot(x='Day', y='P-Value', data=results_df, marker='o')\n",
    "plt.title(\"Sequential Testing: P-Values Over Time\")\n",
    "plt.xlabel(\"Day\")\n",
    "plt.ylabel(\"P-Value\")\n",
    "plt.legend()\n",
    "plt.show()"
   ]
  },
  {
   "cell_type": "markdown",
   "id": "298bccca-cecb-4c96-b4c8-62e36c076c90",
   "metadata": {},
   "source": [
    "### Step 3: Stopping Decision: Did We Find a Winner?"
   ]
  },
  {
   "cell_type": "code",
   "execution_count": 17,
   "id": "2dac8efb-0358-4ad1-9eff-b5acf8737b29",
   "metadata": {},
   "outputs": [
    {
     "name": "stdout",
     "output_type": "stream",
     "text": [
      "Experiment stopped early on Day 5.0 (p=0.00025)\n"
     ]
    }
   ],
   "source": [
    "# Find the first day where p-value falls below thresholda\n",
    "early_stop_day = results_df[results_df['P-Value'] < stopping_threshold]\n",
    "\n",
    "if not early_stop_day.empty:\n",
    "    print(f\"Experiment stopped early on Day {early_stop_day.iloc[0]['Day']} (p={early_stop_day.iloc[0]['P-Value']:.5f})\")\n",
    "else:\n",
    "    print(\"No significant result found, continue running the experiment.\")"
   ]
  },
  {
   "cell_type": "markdown",
   "id": "61d8c58c-ca87-4bb6-bf88-907f27377855",
   "metadata": {},
   "source": [
    "## Why Use Sequential Testing?\n",
    "- Allows early stopping if a significant effect is detected\n",
    "- Reduces cost by not running unnecessary experiments\n",
    "- Controls false positives using stopping thresholds"
   ]
  },
  {
   "cell_type": "code",
   "execution_count": null,
   "id": "6f227002-0c41-4e44-9bf2-1f5e41377ea7",
   "metadata": {},
   "outputs": [],
   "source": []
  }
 ],
 "metadata": {
  "kernelspec": {
   "display_name": "Python 3 (ipykernel)",
   "language": "python",
   "name": "python3"
  },
  "language_info": {
   "codemirror_mode": {
    "name": "ipython",
    "version": 3
   },
   "file_extension": ".py",
   "mimetype": "text/x-python",
   "name": "python",
   "nbconvert_exporter": "python",
   "pygments_lexer": "ipython3",
   "version": "3.12.0"
  }
 },
 "nbformat": 4,
 "nbformat_minor": 5
}
