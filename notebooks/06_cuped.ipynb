{
 "cells": [
  {
   "cell_type": "markdown",
   "id": "7fc7e66a-4d38-4b59-95bf-97ba27ee4748",
   "metadata": {},
   "source": [
    "# CUPED - Reducing Variance in A/B Testing\n"
   ]
  },
  {
   "cell_type": "markdown",
   "id": "2cf204e6-6d47-422a-9d3e-e2165b652534",
   "metadata": {},
   "source": [
    "## Introduction to CUPED\n",
    "- CUPED (Controlled-experiment Using Pre-Experiment Data) is a variance reduction technique that improves the efficiency of experiments.\n",
    "- It leverages pre-experiment data (historical performance of users) to reduce noise in experimental results.\n",
    "- CUPED does not change randomization but adjusts for variance, making experiments more powerful without increasing sample size.\n",
    "- CUPED is widely used in A/B testing platforms (e.g., Microsoft, Airbnb, LinkedIn, and Google) to increase experiment efficiency without needing larger sample sizes.\n",
    "\n",
    "## Why is Variance Reduction Important in Experimentation?\n",
    "- Improves statistical power, detecting true effects with smaller sample sizes.\n",
    "- Reduces noise, leading to more precise results.\n",
    "- Speeds up experimentation, making insights actionable faster.\n",
    "\n",
    "## Math Behind CUPED\n",
    "- CUPED adjusts the observed outcome Y using pre-experiment covariates X to reduce variance.\n",
    "- CUPED-adjusted metric:\n",
    "$$Y^* = Y - \\theta (X - \\bar{X})$$\n",
    "where:\n",
    "    - Y* = Variance-reduced metric\n",
    "    - Y = Observed post-experiment outcome\n",
    "    - X = Pre-experiment metric\n",
    "    - θ = Covariance adjustment coefficient:\n",
    "$$\n",
    "\\theta = \\frac{\\text{Var}(X)}{\\text{Cov}(Y, X)}\n",
    "$$\n",
    "\n",
    "- The goal is to subtract the predictable portion of Y using pre-experiment data  X, making the remaining variance lower.\n"
   ]
  },
  {
   "cell_type": "markdown",
   "id": "63087144-40d9-446d-b140-3eeee05c511c",
   "metadata": {},
   "source": [
    "## Implementing CUPED in Python"
   ]
  },
  {
   "cell_type": "markdown",
   "id": "10016b05-7d4d-4de5-9dc1-c4ef588ea469",
   "metadata": {},
   "source": [
    "### Step 1: Simulate A/B Experiment Data"
   ]
  },
  {
   "cell_type": "code",
   "execution_count": 8,
   "id": "d7631994-ede6-457f-b8bf-718c679ba19a",
   "metadata": {},
   "outputs": [
    {
     "data": {
      "text/html": [
       "<div>\n",
       "<style scoped>\n",
       "    .dataframe tbody tr th:only-of-type {\n",
       "        vertical-align: middle;\n",
       "    }\n",
       "\n",
       "    .dataframe tbody tr th {\n",
       "        vertical-align: top;\n",
       "    }\n",
       "\n",
       "    .dataframe thead th {\n",
       "        text-align: right;\n",
       "    }\n",
       "</style>\n",
       "<table border=\"1\" class=\"dataframe\">\n",
       "  <thead>\n",
       "    <tr style=\"text-align: right;\">\n",
       "      <th></th>\n",
       "      <th>Pre_Exp_Revenue</th>\n",
       "      <th>Post_Exp_Revenue</th>\n",
       "      <th>Treatment</th>\n",
       "    </tr>\n",
       "  </thead>\n",
       "  <tbody>\n",
       "    <tr>\n",
       "      <th>0</th>\n",
       "      <td>54.967142</td>\n",
       "      <td>53.140534</td>\n",
       "      <td>0</td>\n",
       "    </tr>\n",
       "    <tr>\n",
       "      <th>1</th>\n",
       "      <td>48.617357</td>\n",
       "      <td>51.540759</td>\n",
       "      <td>1</td>\n",
       "    </tr>\n",
       "    <tr>\n",
       "      <th>2</th>\n",
       "      <td>56.476885</td>\n",
       "      <td>49.741254</td>\n",
       "      <td>0</td>\n",
       "    </tr>\n",
       "    <tr>\n",
       "      <th>3</th>\n",
       "      <td>65.230299</td>\n",
       "      <td>62.372228</td>\n",
       "      <td>1</td>\n",
       "    </tr>\n",
       "    <tr>\n",
       "      <th>4</th>\n",
       "      <td>47.658466</td>\n",
       "      <td>53.660536</td>\n",
       "      <td>0</td>\n",
       "    </tr>\n",
       "  </tbody>\n",
       "</table>\n",
       "</div>"
      ],
      "text/plain": [
       "   Pre_Exp_Revenue  Post_Exp_Revenue  Treatment\n",
       "0        54.967142         53.140534          0\n",
       "1        48.617357         51.540759          1\n",
       "2        56.476885         49.741254          0\n",
       "3        65.230299         62.372228          1\n",
       "4        47.658466         53.660536          0"
      ]
     },
     "execution_count": 8,
     "metadata": {},
     "output_type": "execute_result"
    }
   ],
   "source": [
    "import numpy as np\n",
    "import pandas as pd\n",
    "import matplotlib.pyplot as plt\n",
    "from scipy import stats\n",
    "\n",
    "np.random.seed(42)\n",
    "n = 1000  # Sample size\n",
    "\n",
    "# Pre-experiment metric (e.g., past revenue)\n",
    "X = np.random.normal(loc=50, scale=10, size=n)\n",
    "\n",
    "# Treatment effect (+2 increase in revenue for treatment group)\n",
    "treatment = np.random.choice([0, 1], size=n)  # 0 = Control, 1 = Treatment\n",
    "Y = X + (2 * treatment) + np.random.normal(0, 5, size=n)  # Post-experiment revenue\n",
    "\n",
    "df = pd.DataFrame({'Pre_Exp_Revenue': X, 'Post_Exp_Revenue': Y, 'Treatment': treatment})\n",
    "df.head()\n"
   ]
  },
  {
   "cell_type": "markdown",
   "id": "0b37eb02-b742-4f8f-9c42-9fca647eb9d7",
   "metadata": {},
   "source": [
    "### Step 2: Compute CUPED Adjustment"
   ]
  },
  {
   "cell_type": "code",
   "execution_count": 9,
   "id": "4fc82153-85d6-4768-9b50-94e78e7bf413",
   "metadata": {},
   "outputs": [
    {
     "name": "stdout",
     "output_type": "stream",
     "text": [
      "Original Variance: 118.91\n",
      "CUPED Adjusted Variance: 25.30 (78.72% reduction)\n"
     ]
    }
   ],
   "source": [
    "# Compute theta\n",
    "theta = np.cov(df['Post_Exp_Revenue'], df['Pre_Exp_Revenue'])[0, 1] / np.var(df['Pre_Exp_Revenue'])\n",
    "\n",
    "# Apply CUPED adjustment\n",
    "df['CUPED_Adjusted_Revenue'] = df['Post_Exp_Revenue'] - theta * (df['Pre_Exp_Revenue'] - df['Pre_Exp_Revenue'].mean())\n",
    "\n",
    "# Compare variance reduction\n",
    "original_var = np.var(df['Post_Exp_Revenue'])\n",
    "adjusted_var = np.var(df['CUPED_Adjusted_Revenue'])\n",
    "\n",
    "print(f\"Original Variance: {original_var:.2f}\")\n",
    "print(f\"CUPED Adjusted Variance: {adjusted_var:.2f} ({(1 - adjusted_var/original_var) * 100:.2f}% reduction)\")\n"
   ]
  },
  {
   "cell_type": "markdown",
   "id": "d84a8c75-8ced-4ede-abee-f580fceb119d",
   "metadata": {},
   "source": [
    "### Step 3: Compare Standard A/B Test vs CUPED-Adjusted A/B Test"
   ]
  },
  {
   "cell_type": "code",
   "execution_count": 10,
   "id": "37695c2f-d4fd-48bf-b111-59a1f2c2f017",
   "metadata": {},
   "outputs": [
    {
     "name": "stdout",
     "output_type": "stream",
     "text": [
      "Standard A/B Test p-value: 0.22720\n",
      "CUPED-Adjusted A/B Test p-value: 0.00000\n"
     ]
    }
   ],
   "source": [
    "# Standard A/B test\n",
    "control = df[df['Treatment'] == 0]['Post_Exp_Revenue']\n",
    "treatment = df[df['Treatment'] == 1]['Post_Exp_Revenue']\n",
    "t_stat, p_val = stats.ttest_ind(treatment, control)\n",
    "\n",
    "# CUPED-adjusted A/B test\n",
    "control_cuped = df[df['Treatment'] == 0]['CUPED_Adjusted_Revenue']\n",
    "treatment_cuped = df[df['Treatment'] == 1]['CUPED_Adjusted_Revenue']\n",
    "t_stat_cuped, p_val_cuped = stats.ttest_ind(treatment_cuped, control_cuped)\n",
    "\n",
    "print(f\"Standard A/B Test p-value: {p_val:.5f}\")\n",
    "print(f\"CUPED-Adjusted A/B Test p-value: {p_val_cuped:.5f}\")\n"
   ]
  },
  {
   "cell_type": "markdown",
   "id": "6da4c0d9-c416-4bb6-9183-f5c56423f579",
   "metadata": {},
   "source": [
    "#### Observation:\n",
    "- CUPED reduces variance, making the test more statistically significant.\n",
    "- The adjusted p-value is lower, meaning we detect treatment effects more efficiently."
   ]
  },
  {
   "cell_type": "markdown",
   "id": "ecdfde86-9f59-496d-b90e-3d6ac8d22774",
   "metadata": {},
   "source": [
    "### When to Use CUPED? \n",
    "- When pre-experiment data is highly correlated with post-experiment outcomes.\n",
    "- When sample size is limited, and variance needs to be reduced.\n",
    "- When running online experiments where users have historical engagement data.\n",
    "\n",
    "### When NOT to use CUPED?\n",
    "- If pre-experiment data is weakly correlated with the outcome.\n",
    "- If randomization is not properly balanced.\n",
    "- If treatment effects change user behavior significantly, making historical data irrelevant."
   ]
  },
  {
   "cell_type": "code",
   "execution_count": null,
   "id": "aadba2d3-12ff-42b3-a7cc-96db7755eb9f",
   "metadata": {},
   "outputs": [],
   "source": []
  }
 ],
 "metadata": {
  "kernelspec": {
   "display_name": "Python 3 (ipykernel)",
   "language": "python",
   "name": "python3"
  },
  "language_info": {
   "codemirror_mode": {
    "name": "ipython",
    "version": 3
   },
   "file_extension": ".py",
   "mimetype": "text/x-python",
   "name": "python",
   "nbconvert_exporter": "python",
   "pygments_lexer": "ipython3",
   "version": "3.12.0"
  }
 },
 "nbformat": 4,
 "nbformat_minor": 5
}
