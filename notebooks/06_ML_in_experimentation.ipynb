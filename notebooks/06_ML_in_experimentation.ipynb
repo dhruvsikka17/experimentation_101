{
 "cells": [
  {
   "cell_type": "markdown",
   "id": "cf8d44b2-ad98-4a68-8677-59e85eb50276",
   "metadata": {},
   "source": [
    "# Machine Learning in A/B Testing & Causal Inference"
   ]
  },
  {
   "cell_type": "markdown",
   "id": "acad4d13-da89-41be-87d2-740262dc31e8",
   "metadata": {},
   "source": [
    "Traditional A/B testing relies on t-tests and chi-square tests, but machine learning (ML), particularly regression models, can:\n",
    "- Handle multiple covariates to reduce variance.\n",
    "- Adjust for confounders in observational studies.\n",
    "- Provide better interpretability when sample sizes are small.<br>\n",
    "\n",
    "This would cover linear regression (for continuous outcomes) and logistic regression (for binary outcomes) as equivalents to classical statistical tests."
   ]
  },
  {
   "cell_type": "markdown",
   "id": "ed2878b7-bde7-46bf-a959-f16ebf365960",
   "metadata": {},
   "source": [
    "| Outcome Type                  | Traditional Test       | ML Equivalent        |\n",
    "|:------------------------------|:----------------------|:---------------------|\n",
    "| Continuous (Revenue, Time)     | t-test                | Linear Regression   |\n",
    "| Binary (Conversion, Clicks)    | Chi-Square / Z-test   | Logistic Regression |\n"
   ]
  },
  {
   "cell_type": "markdown",
   "id": "9b520208-bfc5-4c2b-b350-2149d2facf4d",
   "metadata": {},
   "source": [
    "## Linear Regression for A/B Testing (Continuous Outcomes)"
   ]
  },
  {
   "cell_type": "markdown",
   "id": "65e0a3b5-b53e-4465-a316-bf1f65c830fb",
   "metadata": {},
   "source": [
    "The classic t-test checks if two groups have significantly different means. Instead, we can fit a linear regression model:\n",
    "\n",
    "$$\n",
    "Y_i = \\beta_0 + \\beta_1 \\cdot \\text{Treatment}_i + \\epsilon_i\n",
    "$$\n",
    "\n",
    "Where:  \n",
    "\n",
    "- $Y_i$ = Outcome (e.g., revenue per user)  \n",
    "- Treatment is a binary variable ($0 =$ Control, $1 =$ Treatment)  \n",
    "- $\\beta_1$ tells us the effect of treatment (like the t-test statistic)\n",
    "- If $\\beta_1$ is significant (p < 0.05), treatment had an effect!\n"
   ]
  },
  {
   "cell_type": "code",
   "execution_count": 13,
   "id": "60538e81-319d-408a-a22b-4910f97fd029",
   "metadata": {},
   "outputs": [
    {
     "name": "stdout",
     "output_type": "stream",
     "text": [
      "                            OLS Regression Results                            \n",
      "==============================================================================\n",
      "Dep. Variable:                Revenue   R-squared:                       0.010\n",
      "Model:                            OLS   Adj. R-squared:                  0.009\n",
      "Method:                 Least Squares   F-statistic:                     10.06\n",
      "Date:                Tue, 25 Feb 2025   Prob (F-statistic):            0.00156\n",
      "Time:                        15:35:26   Log-Likelihood:                -3732.8\n",
      "No. Observations:                1000   AIC:                             7470.\n",
      "Df Residuals:                     998   BIC:                             7479.\n",
      "Df Model:                           1                                         \n",
      "Covariance Type:            nonrobust                                         \n",
      "==============================================================================\n",
      "                 coef    std err          t      P>|t|      [0.025      0.975]\n",
      "------------------------------------------------------------------------------\n",
      "const         50.4618      0.457    110.338      0.000      49.564      51.359\n",
      "Treatment      2.0311      0.640      3.172      0.002       0.774       3.288\n",
      "==============================================================================\n",
      "Omnibus:                        1.728   Durbin-Watson:                   2.009\n",
      "Prob(Omnibus):                  0.422   Jarque-Bera (JB):                1.648\n",
      "Skew:                           0.025   Prob(JB):                        0.439\n",
      "Kurtosis:                       2.807   Cond. No.                         2.64\n",
      "==============================================================================\n",
      "\n",
      "Notes:\n",
      "[1] Standard Errors assume that the covariance matrix of the errors is correctly specified.\n"
     ]
    }
   ],
   "source": [
    "import numpy as np\n",
    "import pandas as pd\n",
    "import statsmodels.api as sm\n",
    "\n",
    "# Simulate data\n",
    "np.random.seed(42)\n",
    "n = 1000\n",
    "df = pd.DataFrame({\n",
    "    'Treatment': np.random.choice([0, 1], size=n),  # 0 = Control, 1 = Treatment\n",
    "})\n",
    "\n",
    "# Treatment adds between 0 to 4 revenue units\n",
    "df['Revenue'] = np.random.normal(50, 10, size=n) + df['Treatment'] * np.random.choice([0, 4], size=n) \n",
    "\n",
    "# Fit linear regression\n",
    "X = sm.add_constant(df['Treatment'])\n",
    "model = sm.OLS(df['Revenue'], X).fit()\n",
    "\n",
    "# Print results\n",
    "print(model.summary())\n"
   ]
  },
  {
   "cell_type": "markdown",
   "id": "2af67bdf-c281-466a-83a4-5b461a939202",
   "metadata": {},
   "source": [
    "## Logistic Regression for A/B Testing (Binary Outcomes)"
   ]
  },
  {
   "cell_type": "markdown",
   "id": "aeac7611-2cbc-4051-b780-a4a2e654cb2d",
   "metadata": {},
   "source": [
    "When the outcome is binary (e.g., conversion: 1 = purchased, 0 = not purchased), logistic regression can replace a proportion test (Z-test or chi-square test):\n",
    "\n",
    "$$\n",
    "P(Y = 1) = \\frac{1}{1 + e^{-(\\beta_0 + \\beta_1 \\cdot \\text{Treatment})}}\n",
    "$$\n",
    "\n",
    "Where:\n",
    "- $Y$ is the conversion (1 or 0)\n",
    "- $\\beta_1$ tells us how treatment affects the odds of conversion\n",
    "-  If $\\beta_1$ is significant (p < 0.05), the treatment significantly affects conversion rates!  "
   ]
  },
  {
   "cell_type": "code",
   "execution_count": 14,
   "id": "16b5f0e0-5e9e-4a94-bfe1-89992425bfb6",
   "metadata": {},
   "outputs": [
    {
     "name": "stdout",
     "output_type": "stream",
     "text": [
      "Optimization terminated successfully.\n",
      "         Current function value: 0.374155\n",
      "         Iterations 6\n",
      "                           Logit Regression Results                           \n",
      "==============================================================================\n",
      "Dep. Variable:             Conversion   No. Observations:                 1000\n",
      "Model:                          Logit   Df Residuals:                      998\n",
      "Method:                           MLE   Df Model:                            1\n",
      "Date:                Tue, 25 Feb 2025   Pseudo R-squ.:                 0.01203\n",
      "Time:                        15:38:22   Log-Likelihood:                -374.15\n",
      "converged:                       True   LL-Null:                       -378.71\n",
      "Covariance Type:            nonrobust   LLR p-value:                  0.002537\n",
      "==============================================================================\n",
      "                 coef    std err          z      P>|z|      [0.025      0.975]\n",
      "------------------------------------------------------------------------------\n",
      "Intercept     -2.2672      0.155    -14.637      0.000      -2.571      -1.964\n",
      "Treatment      0.5854      0.197      2.971      0.003       0.199       0.972\n",
      "==============================================================================\n"
     ]
    }
   ],
   "source": [
    "import statsmodels.formula.api as smf\n",
    "\n",
    "# Simulate data\n",
    "np.random.seed(42)\n",
    "n = 1000\n",
    "df = pd.DataFrame({\n",
    "    'Treatment': np.random.choice([0, 1], size=n),  # 0 = Control, 1 = Treatment\n",
    "})\n",
    "\n",
    "# Simulate conversion data\n",
    "df['Conversion'] = np.random.binomial(n=1, p = 0.1 + 0.05 * df['Treatment'])  # Treatment boosts conversion by 5%\n",
    "\n",
    "# Fit logistic regression\n",
    "model = smf.logit(\"Conversion ~ Treatment\", data=df).fit()\n",
    "\n",
    "# Print results\n",
    "print(model.summary())\n"
   ]
  },
  {
   "cell_type": "markdown",
   "id": "9ec57076-f61a-488c-98bd-086c404a6f27",
   "metadata": {},
   "source": [
    "## Causal Inference with Regression"
   ]
  },
  {
   "cell_type": "markdown",
   "id": "01dd2194-2789-4732-bb46-9d60320ca1f2",
   "metadata": {},
   "source": [
    "Regression can also control for confounders in observational data:\n",
    "\n",
    "$$\n",
    "Y = \\beta_0 + \\beta_1 \\cdot \\text{Treatment} + \\beta_2 \\cdot X_1 + \\beta_3 \\cdot X_2 + \\dots + \\epsilon\n",
    "$$\n",
    "\n",
    "Where: \n",
    "- $X_1, X_2$ = Confounding variables (e.g., age, region, prior behavior).  \n",
    "- $\\beta_1$ tells us the true causal effect of treatment after adjusting for other factors.  \n"
   ]
  },
  {
   "cell_type": "code",
   "execution_count": 26,
   "id": "0d9b0679-a5a6-4622-b378-a614aa8a2f57",
   "metadata": {},
   "outputs": [
    {
     "name": "stdout",
     "output_type": "stream",
     "text": [
      "                            OLS Regression Results                            \n",
      "==============================================================================\n",
      "Dep. Variable:                Revenue   R-squared:                       0.015\n",
      "Model:                            OLS   Adj. R-squared:                  0.012\n",
      "Method:                 Least Squares   F-statistic:                     4.997\n",
      "Date:                Tue, 25 Feb 2025   Prob (F-statistic):            0.00192\n",
      "Time:                        15:57:26   Log-Likelihood:                -3728.7\n",
      "No. Observations:                1000   AIC:                             7465.\n",
      "Df Residuals:                     996   BIC:                             7485.\n",
      "Df Model:                           3                                         \n",
      "Covariance Type:            nonrobust                                         \n",
      "=================================================================================\n",
      "                    coef    std err          t      P>|t|      [0.025      0.975]\n",
      "---------------------------------------------------------------------------------\n",
      "const            48.4249      1.146     42.270      0.000      46.177      50.673\n",
      "Treatment         2.0615      0.640      3.223      0.001       0.807       3.316\n",
      "Age               0.0217      0.023      0.924      0.356      -0.024       0.068\n",
      "Device_Mobile     1.2643      0.639      1.979      0.048       0.011       2.518\n",
      "==============================================================================\n",
      "Omnibus:                        1.555   Durbin-Watson:                   2.016\n",
      "Prob(Omnibus):                  0.459   Jarque-Bera (JB):                1.512\n",
      "Skew:                           0.026   Prob(JB):                        0.470\n",
      "Kurtosis:                       2.817   Cond. No.                         164.\n",
      "==============================================================================\n",
      "\n",
      "Notes:\n",
      "[1] Standard Errors assume that the covariance matrix of the errors is correctly specified.\n"
     ]
    }
   ],
   "source": [
    "# Simulate data\n",
    "np.random.seed(42)\n",
    "n = 1000\n",
    "df = pd.DataFrame({\n",
    "    'Treatment': np.random.choice([0, 1], size=n),  # 0 = Control, 1 = Treatment\n",
    "})\n",
    "\n",
    "# Treatment adds between 0 to 4 revenue units\n",
    "df['Revenue'] = np.random.normal(50, 10, size=n) + df['Treatment'] * np.random.choice([0, 4], size=n) \n",
    "\n",
    "df['Age'] = np.random.randint(18, 65, size=n)\n",
    "df['Device'] = np.random.choice(['Desktop', 'Mobile'], size=n)\n",
    "\n",
    "# Encode categorical variable\n",
    "df = pd.get_dummies(df, columns=['Device'], drop_first=True).astype(int)\n",
    "\n",
    "# Fit multiple regression\n",
    "X = sm.add_constant(df[['Treatment', 'Age', 'Device_Mobile']])\n",
    "model = sm.OLS(df['Revenue'], X).fit()\n",
    "\n",
    "print(model.summary())"
   ]
  },
  {
   "cell_type": "code",
   "execution_count": null,
   "id": "0305fe33-41b1-4012-80bb-55b6cf057951",
   "metadata": {},
   "outputs": [],
   "source": []
  }
 ],
 "metadata": {
  "kernelspec": {
   "display_name": "Python 3 (ipykernel)",
   "language": "python",
   "name": "python3"
  },
  "language_info": {
   "codemirror_mode": {
    "name": "ipython",
    "version": 3
   },
   "file_extension": ".py",
   "mimetype": "text/x-python",
   "name": "python",
   "nbconvert_exporter": "python",
   "pygments_lexer": "ipython3",
   "version": "3.12.0"
  }
 },
 "nbformat": 4,
 "nbformat_minor": 5
}
